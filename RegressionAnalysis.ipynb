{
 "cells": [
  {
   "cell_type": "markdown",
   "metadata": {},
   "source": [
    "# Implementation Linear Mixed Effects Models \n",
    "\n",
    "This code implementes and runs the regressions for the analysis for\n",
    "* The effect of annotator demograpics on POPQUORN, SBIC and the merged data\n",
    "* The subsets (gender, not gender) for each of the datasets each"
   ]
  },
  {
   "cell_type": "markdown",
   "metadata": {},
   "source": [
    "## 0. Preparation "
   ]
  },
  {
   "cell_type": "markdown",
   "metadata": {},
   "source": [
    "### 0.1 Load libraries "
   ]
  },
  {
   "cell_type": "code",
   "execution_count": 1,
   "metadata": {},
   "outputs": [],
   "source": [
    "import pandas as pd\n",
    "import statsmodels.api as sm\n",
    "import statsmodels.formula.api as smf\n",
    "from statsmodels.iolib.summary2 import summary_col"
   ]
  },
  {
   "cell_type": "markdown",
   "metadata": {},
   "source": [
    "### 0.2 Define functions "
   ]
  },
  {
   "cell_type": "code",
   "execution_count": 2,
   "metadata": {},
   "outputs": [],
   "source": [
    "def create_summaries(model):\n",
    "    \"\"\"\n",
    "    This function creates summary tables as output and LaTex for a given fitted LM statsmodel model. \n",
    "\n",
    "    Parameters\n",
    "    ----------\n",
    "    model : statsmodels.regression.mixed_linear_model.MixedLMResultsWrapper\n",
    "        Fitted model in question.\n",
    "\n",
    "    Returns\n",
    "    -------\n",
    "    sum : statsmodels.iolib.summary2.Summary\n",
    "        Object with summary statistics of the model. Latex output is printed.\n",
    "\n",
    "    \"\"\"\n",
    "    sum=model.summary()\n",
    "    print(sum)\n",
    "    sum_tex=sum.as_latex()\n",
    "    print(sum_tex)\n",
    "    return sum"
   ]
  },
  {
   "cell_type": "markdown",
   "metadata": {},
   "source": [
    "## 1. Load Data "
   ]
  },
  {
   "cell_type": "markdown",
   "metadata": {},
   "source": [
    "### 1.1 POPQUORN, SBIC, merged Dataset"
   ]
  },
  {
   "cell_type": "code",
   "execution_count": 3,
   "metadata": {},
   "outputs": [],
   "source": [
    "pop_df=pd.read_csv(\"preprocessed data/popquorndata.csv\")\n",
    "sbf_df=pd.read_csv(\"preprocessed data/socialbiascorpus.csv\")\n",
    "all_df = pd.read_csv(\"preprocessed data/merged_dataset.csv\")"
   ]
  },
  {
   "cell_type": "code",
   "execution_count": 4,
   "metadata": {},
   "outputs": [],
   "source": [
    "# Minor preprocessing necessary, since the dataset was also used for validation\n",
    "# drop target category\n",
    "sbf_df=sbf_df.drop('targetCategory',axis=1)\n",
    "\n",
    "# drop multiple annotations related to assignment of multiple target categories \n",
    "sbf_df=sbf_df.drop_duplicates(subset=['HITId','WorkerId'])"
   ]
  },
  {
   "cell_type": "code",
   "execution_count": 5,
   "metadata": {},
   "outputs": [],
   "source": [
    "# Map variable names and categories and everything is consistent\n",
    "# variable names\n",
    "col_dict={'annotatorGender':'gender', 'annotatorRace':'race', 'annotatorAge':'age'}\n",
    "sbf_df.rename(col_dict,axis=1,inplace=True)\n",
    "\n",
    "# gender \n",
    "sbf_df['gender']=sbf_df['gender'].map({'nonBinary':'Non-binary', 'man':'Man', 'woman':'Woman'})\n",
    "\n",
    "#race\n",
    "sbf_df['race']=sbf_df['race'].map({'black':'Black or African American', 'hisp':'Hispanic or Latino', 'native':'Native American','other':'Other','white':'White','asian':'Asian'})"
   ]
  },
  {
   "cell_type": "markdown",
   "metadata": {},
   "source": [
    "### 1.2 Subsets of the data "
   ]
  },
  {
   "cell_type": "code",
   "execution_count": 6,
   "metadata": {},
   "outputs": [],
   "source": [
    "# Target category is gender\n",
    "df_gendertarget = pd.read_csv(\"preprocessed data/df_gendertarget.csv\")\n",
    "#split into former datasets\n",
    "ss_sbf_gen=df_gendertarget[df_gendertarget['Dataset']=='SBIC']\n",
    "ss_pop_gen=df_gendertarget[df_gendertarget['Dataset']=='POPQUORN Data']\n",
    "\n",
    "# Target category is not gender \n",
    "df_othertarget = pd.read_csv(\"preprocessed data/df_othertarget.csv\")\n",
    "\n",
    "#split into former datasets\n",
    "ss_sbf_nogen=df_othertarget[df_othertarget['Dataset']=='SBIC']\n",
    "ss_pop_nogen=df_othertarget[df_othertarget['Dataset']=='POPQUORN Data']\n"
   ]
  },
  {
   "cell_type": "code",
   "execution_count": 7,
   "metadata": {},
   "outputs": [
    {
     "data": {
      "text/plain": [
       "{'POPQUORN Data', 'SBIC'}"
      ]
     },
     "execution_count": 7,
     "metadata": {},
     "output_type": "execute_result"
    }
   ],
   "source": [
    "set(df_gendertarget['Dataset'])"
   ]
  },
  {
   "cell_type": "markdown",
   "metadata": {},
   "source": [
    "## 2. Run regressions "
   ]
  },
  {
   "cell_type": "markdown",
   "metadata": {},
   "source": [
    "### 2.1 POPQUORN, SBIC, merged Dataset\n",
    "\n",
    "This part aims to answer our first research question.\n",
    " Do the demographics of annotators have an effect on how they annotate?"
   ]
  },
  {
   "cell_type": "code",
   "execution_count": 8,
   "metadata": {},
   "outputs": [],
   "source": [
    "# POPQUORN\n",
    "m_pop = smf.mixedlm(\"offensiveness ~ gender+race+age\", pop_df, groups=pop_df[\"instance_id\"])\n",
    "mf_pop = m_pop.fit()\n",
    "\n",
    "# SBIC\n",
    "m_sbf = smf.mixedlm(\"offensiveYN ~ gender+race+age\", sbf_df, groups=sbf_df[\"HITId\"])\n",
    "mf_sbf = m_sbf.fit()\n",
    "\n",
    "# Merged dataset\n",
    "m_merged = smf.mixedlm(\"offensiveness_merge ~ gender+race+age+Dataset\", all_df, groups=all_df[\"instance_id\"])\n",
    "mf_merged = m_merged.fit()"
   ]
  },
  {
   "cell_type": "code",
   "execution_count": 9,
   "metadata": {},
   "outputs": [],
   "source": [
    "# Cretae summaries (if one wants to explore the results deeper)\n",
    "\n",
    "#sum_pop=create_summaries(mf_pop)\n",
    "#sum_sbf=create_summaries(mf_sbf)\n",
    "#sum_merged=create_summaries(mf_merged)"
   ]
  },
  {
   "cell_type": "markdown",
   "metadata": {},
   "source": [
    "Format results and create LaTex output table"
   ]
  },
  {
   "cell_type": "code",
   "execution_count": 10,
   "metadata": {},
   "outputs": [
    {
     "name": "stdout",
     "output_type": "stream",
     "text": [
      "\\begin{table}\n",
      "\\caption{}\n",
      "\\label{}\n",
      "\\begin{center}\n",
      "\\begin{tabular}{llll}\n",
      "\\hline\n",
      "                                  & POPQUORN   & SBIC        & merged       \\\\\n",
      "\\hline\n",
      "Intercept                         & 1.995***   & 0.464***    & 0.124***     \\\\\n",
      "                                  & (0.046)    & (0.005)     & (0.011)      \\\\\n",
      "Dataset[T.SBIC]                   &            &             & 0.312***     \\\\\n",
      "                                  &            &             & (0.010)      \\\\\n",
      "gender[T.Woman]                   & -0.018     & -0.021***   & -0.014***    \\\\\n",
      "                                  & (0.019)    & (0.002)     & (0.002)      \\\\\n",
      "gender[T.Non-binary]              & -0.225***  & 0.085       & -0.071***    \\\\\n",
      "                                  & (0.060)    & (0.163)     & (0.016)      \\\\\n",
      "race[T.Black or African American] & 0.173***   & 0.064***    & 0.078***     \\\\\n",
      "                                  & (0.044)    & (0.006)     & (0.006)      \\\\\n",
      "race[T.Hispanic or Latino]        & -0.419***  & 0.128***    & 0.092***     \\\\\n",
      "                                  & (0.077)    & (0.005)     & (0.005)      \\\\\n",
      "race[T.Native American]           & -0.519***  & 0.045***    & 0.008        \\\\\n",
      "                                  & (0.071)    & (0.016)     & (0.012)      \\\\\n",
      "race[T.White]                     & -0.113***  & 0.082***    & 0.055***     \\\\\n",
      "                                  & (0.036)    & (0.004)     & (0.004)      \\\\\n",
      "race[T.Other]                     &            & 0.103***    & 0.080***     \\\\\n",
      "                                  &            & (0.007)     & (0.007)      \\\\\n",
      "age                               &            & -0.001***   &              \\\\\n",
      "                                  &            & (0.000)     &              \\\\\n",
      "age[T.25-29]                      & -0.165***  &             & 0.042***     \\\\\n",
      "                                  & (0.040)    &             & (0.004)      \\\\\n",
      "age[T.30-34]                      & -0.166***  &             & -0.006*      \\\\\n",
      "                                  & (0.039)    &             & (0.004)      \\\\\n",
      "age[T.35-39]                      & -0.158***  &             & -0.002       \\\\\n",
      "                                  & (0.038)    &             & (0.004)      \\\\\n",
      "age[T.40-44]                      & -0.020     &             & 0.072***     \\\\\n",
      "                                  & (0.042)    &             & (0.005)      \\\\\n",
      "age[T.45-49]                      & -0.072*    &             & -0.042***    \\\\\n",
      "                                  & (0.043)    &             & (0.005)      \\\\\n",
      "age[T.50-54]                      & -0.072     &             & 0.020***     \\\\\n",
      "                                  & (0.044)    &             & (0.007)      \\\\\n",
      "age[T.54-59]                      & 0.017      &             & 0.025***     \\\\\n",
      "                                  & (0.037)    &             & (0.006)      \\\\\n",
      "age[T.60-64]                      & 0.343***   &             & 0.137***     \\\\\n",
      "                                  & (0.048)    &             & (0.011)      \\\\\n",
      "age[T.$>$65]                      & 0.148***   &             & 0.075***     \\\\\n",
      "                                  & (0.039)    &             & (0.008)      \\\\\n",
      "Group Var                         & 0.424***   & 2.129***    & 1.932***     \\\\\n",
      "                                  & (0.021)    & (0.022)     & (0.020)      \\\\\n",
      "N                                 & 12987.0000 & 113373.0000 & 126360.0000  \\\\\n",
      "\\hline\n",
      "\\end{tabular}\n",
      "\\end{center}\n",
      "\\end{table}\n",
      "\\bigskip\n",
      "Standard errors in parentheses. \\newline \n",
      "* p<.1, ** p<.05, ***p<.01\n"
     ]
    }
   ],
   "source": [
    "var_order=['Intercept','Dataset[T.SBIC]','gender[T.Woman]','gender[T.Non-binary]',\n",
    "           'race[T.Black or African American]','race[T.Hispanic or Latino]','race[T.Native American]','race[T.White]','race[T.Other]', \n",
    "           'age','age[T.25-29]','age[T.30-34]','age[T.35-39]','age[T.40-44]','age[T.45-49]','age[T.50-54]','age[T.54-59]','age[T.60-64]','age[T.>65]',\n",
    "           'Group Var']\n",
    "print(summary_col([mf_pop,mf_sbf,mf_merged ],\n",
    "                  float_format='%.3f', \n",
    "                  model_names=['POPQUORN','SBIC','merged'], \n",
    "                  info_dict = {\"N\":lambda x:(x.nobs)},\n",
    "                  stars=True, regressor_order=var_order).as_latex())"
   ]
  },
  {
   "cell_type": "markdown",
   "metadata": {},
   "source": [
    "### 2.2 Subsets of the data \n",
    "This part aims to answer our second research question.\n",
    " Does the effect of demographics of annotators on how they annotate, change when content is atrgetd toward gender?"
   ]
  },
  {
   "cell_type": "code",
   "execution_count": 11,
   "metadata": {},
   "outputs": [],
   "source": [
    "# POPQUORN + Target category is Gender \n",
    "m_gen_pop = smf.mixedlm(\"offensiveness_merge ~ gender+race+age\", ss_pop_gen, groups=ss_pop_gen[\"instance_id\"])\n",
    "mf_gen_pop = m_gen_pop.fit()\n",
    "\n",
    "# POPQUORN + Target category is NOT Gender \n",
    "m_nogen_pop = smf.mixedlm(\"offensiveness_merge ~ gender+race+age\", ss_pop_nogen, groups=ss_pop_nogen[\"instance_id\"])\n",
    "mf_nogen_pop = m_nogen_pop.fit()\n",
    "\n",
    "# SBIC + Target category is Gender \n",
    "m_gen_sbf = smf.mixedlm(\"offensiveness_merge ~ gender+race+age\", ss_sbf_gen, groups=ss_sbf_gen[\"instance_id\"])\n",
    "mf_gen_sbf = m_gen_sbf.fit()\n",
    "\n",
    "# SBIC + Target category is NOT Gender \n",
    "m_nogen_sbf = smf.mixedlm(\"offensiveness_merge ~ gender+race+age\", ss_sbf_nogen, groups=ss_sbf_nogen[\"instance_id\"])\n",
    "mf_nogen_sbf = m_nogen_sbf.fit()\n",
    "\n",
    "# Merged data + Target category is Gender \n",
    "m_gen = smf.mixedlm(\"offensiveness_merge ~ gender+race+age+Dataset\", df_gendertarget, groups=df_gendertarget[\"instance_id\"])\n",
    "mf_gen = m_gen.fit()\n",
    "\n",
    "# Merged data + Target category is NOT Gender \n",
    "m_nogen = smf.mixedlm(\"offensiveness_merge ~ gender+race+age+Dataset\", df_othertarget, groups=df_othertarget[\"instance_id\"])\n",
    "mf_nogen = m_nogen.fit()"
   ]
  },
  {
   "cell_type": "code",
   "execution_count": 12,
   "metadata": {},
   "outputs": [],
   "source": [
    "# Cretae summaries (if one wants to explore the results deeper)\n",
    "\n",
    "#sum_gen_pop=create_summaries(mf_gen_pop)\n",
    "#sum_nogen_pop=create_summaries(mf_nogen_pop)\n",
    "#sum_gen_sbf=create_summaries(mf_gen_sbf)\n",
    "#sum_nogen_sbf=create_summaries(mf_nogen_sbf)\n",
    "#sum_gen=create_summaries(mf_gen)\n",
    "#sum_nogen=create_summaries(mf_nogen)"
   ]
  },
  {
   "cell_type": "markdown",
   "metadata": {},
   "source": [
    "Format results and create LaTex output table"
   ]
  },
  {
   "cell_type": "code",
   "execution_count": 13,
   "metadata": {},
   "outputs": [
    {
     "name": "stdout",
     "output_type": "stream",
     "text": [
      "\\begin{table}\n",
      "\\caption{}\n",
      "\\label{}\n",
      "\\begin{center}\n",
      "\\begin{tabular}{lllllll}\n",
      "\\hline\n",
      "                                  & offensiveness\\_merge I & offensiveness\\_merge II & offensiveness\\_merge III & offensiveness\\_merge IIII & offensiveness\\_merge IIIII & offensiveness\\_merge IIIIII  \\\\\n",
      "\\hline\n",
      "Intercept                         & 0.208***               & 0.120***                & 0.587***                 & 0.404***                  & 0.390***                   & 0.204***                     \\\\\n",
      "                                  & (0.034)                & (0.011)                 & (0.012)                  & (0.005)                   & (0.062)                    & (0.014)                      \\\\\n",
      "Dataset[T.SBIC]                   & 0.386***               & 0.294***                &                          &                           &                            &                              \\\\\n",
      "                                  & (0.033)                & (0.011)                 &                          &                           &                            &                              \\\\\n",
      "gender[T.Woman]                   & -0.040***              & -0.012***               & -0.042***                & -0.009***                 & 0.018                      & -0.008                       \\\\\n",
      "                                  & (0.006)                & (0.002)                 & (0.006)                  & (0.002)                   & (0.027)                    & (0.006)                      \\\\\n",
      "gender[T.Non-binary]              & -0.097                 & -0.069***               &                          & 0.097                     & -0.109                     & -0.069***                    \\\\\n",
      "                                  & (0.070)                & (0.016)                 &                          & (0.159)                   & (0.087)                    & (0.018)                      \\\\\n",
      "race[T.Black or African American] & -0.007                 & 0.086***                & -0.026                   & 0.067***                  & -0.033                     & 0.065***                     \\\\\n",
      "                                  & (0.019)                & (0.006)                 & (0.020)                  & (0.007)                   & (0.060)                    & (0.013)                      \\\\\n",
      "race[T.Hispanic or Latino]        & 0.088***               & 0.092***                & 0.092***                 & 0.104***                  & -0.064                     & -0.088***                    \\\\\n",
      "                                  & (0.017)                & (0.006)                 & (0.017)                  & (0.006)                   & (0.099)                    & (0.024)                      \\\\\n",
      "race[T.Native American]           & 0.124***               & -0.001                  & 0.213***                 & 0.071***                  & -0.177*                    & -0.116***                    \\\\\n",
      "                                  & (0.043)                & (0.012)                 & (0.051)                  & (0.017)                   & (0.102)                    & (0.022)                      \\\\\n",
      "race[T.White]                     & 0.048***               & 0.055***                & 0.053***                 & 0.068***                  & -0.089*                    & -0.026**                     \\\\\n",
      "                                  & (0.013)                & (0.004)                 & (0.013)                  & (0.005)                   & (0.051)                    & (0.011)                      \\\\\n",
      "race[T.Other]                     & 0.076***               & 0.080***                & 0.077***                 & 0.089***                  &                            &                              \\\\\n",
      "                                  & (0.022)                & (0.008)                 & (0.022)                  & (0.008)                   &                            &                              \\\\\n",
      "age[T.25-29]                      & 0.092***               & 0.035***                & 0.099***                 & 0.037***                  & -0.109**                   & -0.044***                    \\\\\n",
      "                                  & (0.011)                & (0.004)                 & (0.011)                  & (0.004)                   & (0.055)                    & (0.012)                      \\\\\n",
      "age[T.30-34]                      & 0.048***               & -0.012***               & 0.055***                 & -0.009**                  & -0.035                     & -0.033***                    \\\\\n",
      "                                  & (0.011)                & (0.004)                 & (0.012)                  & (0.004)                   & (0.054)                    & (0.012)                      \\\\\n",
      "age[T.35-39]                      & 0.067***               & -0.009**                & 0.071***                 & -0.011***                 & -0.091*                    & -0.028**                     \\\\\n",
      "                                  & (0.011)                & (0.004)                 & (0.011)                  & (0.004)                   & (0.054)                    & (0.012)                      \\\\\n",
      "age[T.40-44]                      & 0.131***               & 0.065***                & 0.131***                 & 0.071***                  & 0.051                      & 0.008                        \\\\\n",
      "                                  & (0.015)                & (0.005)                 & (0.015)                  & (0.005)                   & (0.060)                    & (0.013)                      \\\\\n",
      "age[T.45-49]                      & -0.021                 & -0.044***               & -0.025*                  & -0.060***                 & -0.031                     & 0.001                        \\\\\n",
      "                                  & (0.014)                & (0.005)                 & (0.014)                  & (0.005)                   & (0.061)                    & (0.013)                      \\\\\n",
      "age[T.50-54]                      & 0.043*                 & 0.017**                 & 0.057**                  & 0.024**                   & -0.075                     & -0.006                       \\\\\n",
      "                                  & (0.025)                & (0.007)                 & (0.028)                  & (0.010)                   & (0.063)                    & (0.013)                      \\\\\n",
      "age[T.54-59]                      & 0.092***               & 0.020***                & 0.090***                 & -0.018**                  & 0.010                      & 0.036***                     \\\\\n",
      "                                  & (0.021)                & (0.006)                 & (0.025)                  & (0.008)                   & (0.052)                    & (0.011)                      \\\\\n",
      "age[T.60-64]                      & 0.169***               & 0.131***                &                          & 0.051                     & 0.085                      & 0.112***                     \\\\\n",
      "                                  & (0.047)                & (0.012)                 &                          & (0.189)                   & (0.065)                    & (0.015)                      \\\\\n",
      "age[T.$>$65]                      & 0.158***               & 0.067***                & 0.239***                 & 0.083***                  & 0.045                      & 0.057***                     \\\\\n",
      "                                  & (0.032)                & (0.009)                 & (0.081)                  & (0.032)                   & (0.053)                    & (0.012)                      \\\\\n",
      "Group Var                         & 0.978***               & 2.036***                & 1.048***                 & 2.262***                  & 0.191***                   & 0.310***                     \\\\\n",
      "                                  & (0.030)                & (0.022)                 & (0.032)                  & (0.025)                   & (0.046)                    & (0.017)                      \\\\\n",
      "N                                 & 17178.0000             & 111884.0000             & 16277.0000               & 99694.0000                & 901.0000                   & 12190.0000                   \\\\\n",
      "\\hline\n",
      "\\end{tabular}\n",
      "\\end{center}\n",
      "\\end{table}\n",
      "\\bigskip\n",
      "Standard errors in parentheses. \\newline \n",
      "* p<.1, ** p<.05, ***p<.01\n"
     ]
    }
   ],
   "source": [
    "var_order=['Intercept','Dataset[T.SBIC]','gender[T.Woman]','gender[T.Non-binary]',\n",
    "           'race[T.Black or African American]','race[T.Hispanic or Latino]','race[T.Native American]','race[T.White]','race[T.Other]', \n",
    "           'age[T.25-29]','age[T.30-34]','age[T.35-39]','age[T.40-44]','age[T.45-49]','age[T.50-54]','age[T.54-59]','age[T.60-64]','age[T.>65]',\n",
    "           'Group Var']\n",
    "print(summary_col([mf_gen, mf_nogen, mf_gen_sbf,mf_nogen_sbf,mf_gen_pop, mf_nogen_pop],\n",
    "                  float_format='%.3f',\n",
    "                  info_dict = {\"N\":lambda x:x.nobs}, \n",
    "                  stars=True, regressor_order=var_order).as_latex())"
   ]
  }
 ],
 "metadata": {
  "kernelspec": {
   "display_name": "base",
   "language": "python",
   "name": "python3"
  },
  "language_info": {
   "codemirror_mode": {
    "name": "ipython",
    "version": 3
   },
   "file_extension": ".py",
   "mimetype": "text/x-python",
   "name": "python",
   "nbconvert_exporter": "python",
   "pygments_lexer": "ipython3",
   "version": "3.11.4"
  }
 },
 "nbformat": 4,
 "nbformat_minor": 2
}
