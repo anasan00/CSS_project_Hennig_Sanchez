{
 "cells": [
  {
   "cell_type": "markdown",
   "id": "9bdec1ea-e581-4b9d-9065-cd067103c9c3",
   "metadata": {},
   "source": [
    "PREPROCESSING SBIC\n"
   ]
  },
  {
   "cell_type": "code",
   "execution_count": 231,
   "id": "ea4e579c-8273-44e3-9540-ae0a2439025c",
   "metadata": {},
   "outputs": [],
   "source": [
    "#packages\n",
    "import pandas as pd\n",
    "import numpy as np\n",
    "from datasets import load_dataset\n",
    "import json\n"
   ]
  },
  {
   "cell_type": "code",
   "execution_count": 232,
   "id": "33fe7ea0-058b-45ef-9e87-a4589c896d9e",
   "metadata": {},
   "outputs": [
    {
     "name": "stderr",
     "output_type": "stream",
     "text": [
      "Found cached dataset social_bias_frames (C:/Users/anasa/.cache/huggingface/datasets/social_bias_frames/default/0.0.0/79706db13a32c7f9614b997cc4326cbda14e6d3968892a3f0e76c4a970e7e510)\n"
     ]
    },
    {
     "data": {
      "application/vnd.jupyter.widget-view+json": {
       "model_id": "b8b5511f02c4444d9efab6fca4648912",
       "version_major": 2,
       "version_minor": 0
      },
      "text/plain": [
       "  0%|          | 0/3 [00:00<?, ?it/s]"
      ]
     },
     "metadata": {},
     "output_type": "display_data"
    }
   ],
   "source": [
    "sbf = load_dataset(\"social_bias_frames\")"
   ]
  },
  {
   "cell_type": "code",
   "execution_count": 233,
   "id": "eb5fc75c-cc3b-4b36-8230-b5ae30390b36",
   "metadata": {},
   "outputs": [],
   "source": [
    "train_df = sbf['train'].to_pandas()\n",
    "test_df = sbf['test'].to_pandas()\n",
    "validation_df = sbf['validation'].to_pandas()\n",
    "small_sb_df = pd.concat([train_df, test_df, validation_df]).reset_index()"
   ]
  },
  {
   "cell_type": "code",
   "execution_count": 234,
   "id": "942d88b2",
   "metadata": {},
   "outputs": [],
   "source": [
    "#small_sb_df.head(3)"
   ]
  },
  {
   "cell_type": "code",
   "execution_count": 235,
   "id": "6f772aeb-9781-43a8-88d0-afc6a817927d",
   "metadata": {},
   "outputs": [],
   "source": [
    "#keeping neccesary columns\n",
    "small_sb_df=small_sb_df[['offensiveYN','post','annotatorGender','annotatorRace','annotatorAge', 'HITId', 'WorkerId', 'targetCategory']]"
   ]
  },
  {
   "cell_type": "code",
   "execution_count": 236,
   "id": "584d7908-0dc9-4aba-b4da-7f7212fe52ec",
   "metadata": {},
   "outputs": [],
   "source": [
    "columns_to_clean = ['offensiveYN', 'annotatorGender','annotatorRace','annotatorAge', 'HITId', 'WorkerId'] #cleaning these columns"
   ]
  },
  {
   "cell_type": "code",
   "execution_count": 237,
   "id": "30e91e95-b785-459f-85e4-39bb943eb252",
   "metadata": {},
   "outputs": [],
   "source": [
    "sb_df = small_sb_df[~small_sb_df[columns_to_clean].isin(['', 'na']).any(axis=1)] #deleting na's and ''\n"
   ]
  },
  {
   "cell_type": "code",
   "execution_count": 238,
   "id": "473e6fd9-340f-452f-9740-ff5b4e12f8d2",
   "metadata": {},
   "outputs": [
    {
     "data": {
      "text/plain": [
       "str"
      ]
     },
     "execution_count": 238,
     "metadata": {},
     "output_type": "execute_result"
    }
   ],
   "source": [
    "type(\"offensiveYN\")"
   ]
  },
  {
   "cell_type": "code",
   "execution_count": 239,
   "id": "2b2c1fee-72d8-4311-8efd-a05e44e9dd4b",
   "metadata": {},
   "outputs": [
    {
     "name": "stdout",
     "output_type": "stream",
     "text": [
      "0    1.0\n",
      "1    0.5\n",
      "2    0.5\n",
      "3    1.0\n",
      "4    1.0\n",
      "Name: offensiveYN, dtype: float64\n"
     ]
    }
   ],
   "source": [
    "#converting offensiveYN to numeric\n",
    "sb_df = sb_df.dropna(subset=columns_to_clean).copy()\n",
    "\n",
    "# Convert the offensiveYN column to numeric\n",
    "sb_df['offensiveYN'] = pd.to_numeric(sb_df['offensiveYN'])\n",
    "\n",
    "# Check the conversion\n",
    "print(sb_df['offensiveYN'].head())"
   ]
  },
  {
   "cell_type": "code",
   "execution_count": 240,
   "id": "fffdc434-deb4-4276-be58-ebe2b83fbef3",
   "metadata": {},
   "outputs": [
    {
     "data": {
      "text/html": [
       "<div>\n",
       "<style scoped>\n",
       "    .dataframe tbody tr th:only-of-type {\n",
       "        vertical-align: middle;\n",
       "    }\n",
       "\n",
       "    .dataframe tbody tr th {\n",
       "        vertical-align: top;\n",
       "    }\n",
       "\n",
       "    .dataframe thead th {\n",
       "        text-align: right;\n",
       "    }\n",
       "</style>\n",
       "<table border=\"1\" class=\"dataframe\">\n",
       "  <thead>\n",
       "    <tr style=\"text-align: right;\">\n",
       "      <th></th>\n",
       "      <th>offensiveYN</th>\n",
       "      <th>post</th>\n",
       "      <th>annotatorGender</th>\n",
       "      <th>annotatorRace</th>\n",
       "      <th>annotatorAge</th>\n",
       "      <th>HITId</th>\n",
       "      <th>WorkerId</th>\n",
       "      <th>targetCategory</th>\n",
       "    </tr>\n",
       "  </thead>\n",
       "  <tbody>\n",
       "    <tr>\n",
       "      <th>0</th>\n",
       "      <td>1.0</td>\n",
       "      <td>RT @_LexC__: I'm convinced that some of y'all ...</td>\n",
       "      <td>woman</td>\n",
       "      <td>white</td>\n",
       "      <td>45.0</td>\n",
       "      <td>363A7XIFV4G2799C5V96YERJA9AVAM</td>\n",
       "      <td>-8935932304856669427</td>\n",
       "      <td></td>\n",
       "    </tr>\n",
       "    <tr>\n",
       "      <th>1</th>\n",
       "      <td>0.5</td>\n",
       "      <td>RT @_LexC__: I'm convinced that some of y'all ...</td>\n",
       "      <td>man</td>\n",
       "      <td>white</td>\n",
       "      <td>35.0</td>\n",
       "      <td>363A7XIFV4G2799C5V96YERJA9AVAM</td>\n",
       "      <td>6347880360297734464</td>\n",
       "      <td></td>\n",
       "    </tr>\n",
       "    <tr>\n",
       "      <th>2</th>\n",
       "      <td>0.5</td>\n",
       "      <td>RT @_LexC__: I'm convinced that some of y'all ...</td>\n",
       "      <td>man</td>\n",
       "      <td>asian</td>\n",
       "      <td>23.0</td>\n",
       "      <td>363A7XIFV4G2799C5V96YERJA9AVAM</td>\n",
       "      <td>-7452610791699819066</td>\n",
       "      <td></td>\n",
       "    </tr>\n",
       "    <tr>\n",
       "      <th>3</th>\n",
       "      <td>1.0</td>\n",
       "      <td>RT @iBeZo: Stupid fucking nigger LeBron. You f...</td>\n",
       "      <td>man</td>\n",
       "      <td>white</td>\n",
       "      <td>25.0</td>\n",
       "      <td>3JTPR5MTZS6RLS3JBV4IOU0G2X35K5</td>\n",
       "      <td>-500114755446676507</td>\n",
       "      <td>race</td>\n",
       "    </tr>\n",
       "    <tr>\n",
       "      <th>4</th>\n",
       "      <td>1.0</td>\n",
       "      <td>RT @iBeZo: Stupid fucking nigger LeBron. You f...</td>\n",
       "      <td>man</td>\n",
       "      <td>white</td>\n",
       "      <td>25.0</td>\n",
       "      <td>3JTPR5MTZS6RLS3JBV4IOU0G2X35K5</td>\n",
       "      <td>-500114755446676507</td>\n",
       "      <td>race</td>\n",
       "    </tr>\n",
       "  </tbody>\n",
       "</table>\n",
       "</div>"
      ],
      "text/plain": [
       "   offensiveYN                                               post  \\\n",
       "0          1.0  RT @_LexC__: I'm convinced that some of y'all ...   \n",
       "1          0.5  RT @_LexC__: I'm convinced that some of y'all ...   \n",
       "2          0.5  RT @_LexC__: I'm convinced that some of y'all ...   \n",
       "3          1.0  RT @iBeZo: Stupid fucking nigger LeBron. You f...   \n",
       "4          1.0  RT @iBeZo: Stupid fucking nigger LeBron. You f...   \n",
       "\n",
       "  annotatorGender annotatorRace annotatorAge                           HITId  \\\n",
       "0           woman         white         45.0  363A7XIFV4G2799C5V96YERJA9AVAM   \n",
       "1             man         white         35.0  363A7XIFV4G2799C5V96YERJA9AVAM   \n",
       "2             man         asian         23.0  363A7XIFV4G2799C5V96YERJA9AVAM   \n",
       "3             man         white         25.0  3JTPR5MTZS6RLS3JBV4IOU0G2X35K5   \n",
       "4             man         white         25.0  3JTPR5MTZS6RLS3JBV4IOU0G2X35K5   \n",
       "\n",
       "               WorkerId targetCategory  \n",
       "0  -8935932304856669427                 \n",
       "1   6347880360297734464                 \n",
       "2  -7452610791699819066                 \n",
       "3   -500114755446676507           race  \n",
       "4   -500114755446676507           race  "
      ]
     },
     "execution_count": 240,
     "metadata": {},
     "output_type": "execute_result"
    }
   ],
   "source": [
    "sb_df.head(5)"
   ]
  },
  {
   "cell_type": "code",
   "execution_count": 241,
   "id": "34413cb0-1316-41b0-92de-bd3ce0746a22",
   "metadata": {},
   "outputs": [],
   "source": [
    "sb_df = sb_df.drop_duplicates(subset=[\"HITId\", \"WorkerId\",\"targetCategory\"], keep='first')\n"
   ]
  },
  {
   "cell_type": "code",
   "execution_count": 242,
   "id": "62b4953e-29e2-4c25-843d-e2eb14bf7221",
   "metadata": {},
   "outputs": [],
   "source": [
    "sb_df = sb_df.drop(sb_df[sb_df['annotatorGender'] == 'transman'].index) #deleting transman\n"
   ]
  },
  {
   "cell_type": "code",
   "execution_count": 243,
   "id": "acd2c381-415a-4f3e-be8e-676be5ae516e",
   "metadata": {},
   "outputs": [
    {
     "data": {
      "text/html": [
       "<div>\n",
       "<style scoped>\n",
       "    .dataframe tbody tr th:only-of-type {\n",
       "        vertical-align: middle;\n",
       "    }\n",
       "\n",
       "    .dataframe tbody tr th {\n",
       "        vertical-align: top;\n",
       "    }\n",
       "\n",
       "    .dataframe thead th {\n",
       "        text-align: right;\n",
       "    }\n",
       "</style>\n",
       "<table border=\"1\" class=\"dataframe\">\n",
       "  <thead>\n",
       "    <tr style=\"text-align: right;\">\n",
       "      <th></th>\n",
       "      <th>offensiveYN</th>\n",
       "      <th>post</th>\n",
       "      <th>annotatorGender</th>\n",
       "      <th>annotatorRace</th>\n",
       "      <th>annotatorAge</th>\n",
       "      <th>HITId</th>\n",
       "      <th>WorkerId</th>\n",
       "      <th>targetCategory</th>\n",
       "    </tr>\n",
       "  </thead>\n",
       "  <tbody>\n",
       "    <tr>\n",
       "      <th>0</th>\n",
       "      <td>1.0</td>\n",
       "      <td>RT @_LexC__: I'm convinced that some of y'all ...</td>\n",
       "      <td>woman</td>\n",
       "      <td>white</td>\n",
       "      <td>45.0</td>\n",
       "      <td>363A7XIFV4G2799C5V96YERJA9AVAM</td>\n",
       "      <td>-8935932304856669427</td>\n",
       "      <td></td>\n",
       "    </tr>\n",
       "    <tr>\n",
       "      <th>1</th>\n",
       "      <td>0.5</td>\n",
       "      <td>RT @_LexC__: I'm convinced that some of y'all ...</td>\n",
       "      <td>man</td>\n",
       "      <td>white</td>\n",
       "      <td>35.0</td>\n",
       "      <td>363A7XIFV4G2799C5V96YERJA9AVAM</td>\n",
       "      <td>6347880360297734464</td>\n",
       "      <td></td>\n",
       "    </tr>\n",
       "    <tr>\n",
       "      <th>2</th>\n",
       "      <td>0.5</td>\n",
       "      <td>RT @_LexC__: I'm convinced that some of y'all ...</td>\n",
       "      <td>man</td>\n",
       "      <td>asian</td>\n",
       "      <td>23.0</td>\n",
       "      <td>363A7XIFV4G2799C5V96YERJA9AVAM</td>\n",
       "      <td>-7452610791699819066</td>\n",
       "      <td></td>\n",
       "    </tr>\n",
       "    <tr>\n",
       "      <th>3</th>\n",
       "      <td>1.0</td>\n",
       "      <td>RT @iBeZo: Stupid fucking nigger LeBron. You f...</td>\n",
       "      <td>man</td>\n",
       "      <td>white</td>\n",
       "      <td>25.0</td>\n",
       "      <td>3JTPR5MTZS6RLS3JBV4IOU0G2X35K5</td>\n",
       "      <td>-500114755446676507</td>\n",
       "      <td>race</td>\n",
       "    </tr>\n",
       "    <tr>\n",
       "      <th>5</th>\n",
       "      <td>1.0</td>\n",
       "      <td>RT @iBeZo: Stupid fucking nigger LeBron. You f...</td>\n",
       "      <td>woman</td>\n",
       "      <td>white</td>\n",
       "      <td>32.0</td>\n",
       "      <td>3JTPR5MTZS6RLS3JBV4IOU0G2X35K5</td>\n",
       "      <td>7912096326098817047</td>\n",
       "      <td>race</td>\n",
       "    </tr>\n",
       "    <tr>\n",
       "      <th>...</th>\n",
       "      <td>...</td>\n",
       "      <td>...</td>\n",
       "      <td>...</td>\n",
       "      <td>...</td>\n",
       "      <td>...</td>\n",
       "      <td>...</td>\n",
       "      <td>...</td>\n",
       "      <td>...</td>\n",
       "    </tr>\n",
       "    <tr>\n",
       "      <th>147134</th>\n",
       "      <td>0.0</td>\n",
       "      <td>How do you guys think of the Red Pill and MGTOW?</td>\n",
       "      <td>woman</td>\n",
       "      <td>white</td>\n",
       "      <td>35.0</td>\n",
       "      <td>3ZLW647WALPTQXCP86AL91G29ZR23P</td>\n",
       "      <td>1303165327163975890</td>\n",
       "      <td></td>\n",
       "    </tr>\n",
       "    <tr>\n",
       "      <th>147135</th>\n",
       "      <td>0.5</td>\n",
       "      <td>How do you guys think of the Red Pill and MGTOW?</td>\n",
       "      <td>woman</td>\n",
       "      <td>white</td>\n",
       "      <td>37.0</td>\n",
       "      <td>3ZLW647WALPTQXCP86AL91G29ZR23P</td>\n",
       "      <td>-6352039173957003457</td>\n",
       "      <td></td>\n",
       "    </tr>\n",
       "    <tr>\n",
       "      <th>147136</th>\n",
       "      <td>0.0</td>\n",
       "      <td>6500+ upvotes on an obvious photoshopped pictu...</td>\n",
       "      <td>man</td>\n",
       "      <td>white</td>\n",
       "      <td>36.0</td>\n",
       "      <td>367O8HRHKG27DSCR2ZUAAOLCLTLS42</td>\n",
       "      <td>8390651940705791863</td>\n",
       "      <td></td>\n",
       "    </tr>\n",
       "    <tr>\n",
       "      <th>147137</th>\n",
       "      <td>0.5</td>\n",
       "      <td>6500+ upvotes on an obvious photoshopped pictu...</td>\n",
       "      <td>man</td>\n",
       "      <td>white</td>\n",
       "      <td>32.0</td>\n",
       "      <td>367O8HRHKG27DSCR2ZUAAOLCLTLS42</td>\n",
       "      <td>-7353159578349448466</td>\n",
       "      <td></td>\n",
       "    </tr>\n",
       "    <tr>\n",
       "      <th>147138</th>\n",
       "      <td>1.0</td>\n",
       "      <td>6500+ upvotes on an obvious photoshopped pictu...</td>\n",
       "      <td>woman</td>\n",
       "      <td>white</td>\n",
       "      <td>35.0</td>\n",
       "      <td>367O8HRHKG27DSCR2ZUAAOLCLTLS42</td>\n",
       "      <td>-5471608738051449110</td>\n",
       "      <td></td>\n",
       "    </tr>\n",
       "  </tbody>\n",
       "</table>\n",
       "<p>114307 rows × 8 columns</p>\n",
       "</div>"
      ],
      "text/plain": [
       "        offensiveYN                                               post  \\\n",
       "0               1.0  RT @_LexC__: I'm convinced that some of y'all ...   \n",
       "1               0.5  RT @_LexC__: I'm convinced that some of y'all ...   \n",
       "2               0.5  RT @_LexC__: I'm convinced that some of y'all ...   \n",
       "3               1.0  RT @iBeZo: Stupid fucking nigger LeBron. You f...   \n",
       "5               1.0  RT @iBeZo: Stupid fucking nigger LeBron. You f...   \n",
       "...             ...                                                ...   \n",
       "147134          0.0   How do you guys think of the Red Pill and MGTOW?   \n",
       "147135          0.5   How do you guys think of the Red Pill and MGTOW?   \n",
       "147136          0.0  6500+ upvotes on an obvious photoshopped pictu...   \n",
       "147137          0.5  6500+ upvotes on an obvious photoshopped pictu...   \n",
       "147138          1.0  6500+ upvotes on an obvious photoshopped pictu...   \n",
       "\n",
       "       annotatorGender annotatorRace annotatorAge  \\\n",
       "0                woman         white         45.0   \n",
       "1                  man         white         35.0   \n",
       "2                  man         asian         23.0   \n",
       "3                  man         white         25.0   \n",
       "5                woman         white         32.0   \n",
       "...                ...           ...          ...   \n",
       "147134           woman         white         35.0   \n",
       "147135           woman         white         37.0   \n",
       "147136             man         white         36.0   \n",
       "147137             man         white         32.0   \n",
       "147138           woman         white         35.0   \n",
       "\n",
       "                                 HITId              WorkerId targetCategory  \n",
       "0       363A7XIFV4G2799C5V96YERJA9AVAM  -8935932304856669427                 \n",
       "1       363A7XIFV4G2799C5V96YERJA9AVAM   6347880360297734464                 \n",
       "2       363A7XIFV4G2799C5V96YERJA9AVAM  -7452610791699819066                 \n",
       "3       3JTPR5MTZS6RLS3JBV4IOU0G2X35K5   -500114755446676507           race  \n",
       "5       3JTPR5MTZS6RLS3JBV4IOU0G2X35K5   7912096326098817047           race  \n",
       "...                                ...                   ...            ...  \n",
       "147134  3ZLW647WALPTQXCP86AL91G29ZR23P   1303165327163975890                 \n",
       "147135  3ZLW647WALPTQXCP86AL91G29ZR23P  -6352039173957003457                 \n",
       "147136  367O8HRHKG27DSCR2ZUAAOLCLTLS42   8390651940705791863                 \n",
       "147137  367O8HRHKG27DSCR2ZUAAOLCLTLS42  -7353159578349448466                 \n",
       "147138  367O8HRHKG27DSCR2ZUAAOLCLTLS42  -5471608738051449110                 \n",
       "\n",
       "[114307 rows x 8 columns]"
      ]
     },
     "execution_count": 243,
     "metadata": {},
     "output_type": "execute_result"
    }
   ],
   "source": [
    "sb_df"
   ]
  },
  {
   "cell_type": "code",
   "execution_count": 244,
   "id": "e066ea12-2886-4875-826d-db029a52b310",
   "metadata": {},
   "outputs": [],
   "source": [
    "sb_df.to_csv(\"preprocessed data/socialbiascorpus.csv\", index=False)\n"
   ]
  },
  {
   "cell_type": "code",
   "execution_count": 245,
   "id": "3cc8347e",
   "metadata": {},
   "outputs": [
    {
     "data": {
      "text/html": [
       "<div>\n",
       "<style scoped>\n",
       "    .dataframe tbody tr th:only-of-type {\n",
       "        vertical-align: middle;\n",
       "    }\n",
       "\n",
       "    .dataframe tbody tr th {\n",
       "        vertical-align: top;\n",
       "    }\n",
       "\n",
       "    .dataframe thead th {\n",
       "        text-align: right;\n",
       "    }\n",
       "</style>\n",
       "<table border=\"1\" class=\"dataframe\">\n",
       "  <thead>\n",
       "    <tr style=\"text-align: right;\">\n",
       "      <th></th>\n",
       "      <th>offensiveYN</th>\n",
       "      <th>post</th>\n",
       "      <th>annotatorGender</th>\n",
       "      <th>annotatorRace</th>\n",
       "      <th>annotatorAge</th>\n",
       "      <th>HITId</th>\n",
       "      <th>WorkerId</th>\n",
       "      <th>targetCategory</th>\n",
       "    </tr>\n",
       "  </thead>\n",
       "  <tbody>\n",
       "    <tr>\n",
       "      <th>0</th>\n",
       "      <td>1.0</td>\n",
       "      <td>RT @_LexC__: I'm convinced that some of y'all ...</td>\n",
       "      <td>woman</td>\n",
       "      <td>white</td>\n",
       "      <td>45.0</td>\n",
       "      <td>363A7XIFV4G2799C5V96YERJA9AVAM</td>\n",
       "      <td>-8935932304856669427</td>\n",
       "      <td></td>\n",
       "    </tr>\n",
       "    <tr>\n",
       "      <th>1</th>\n",
       "      <td>0.5</td>\n",
       "      <td>RT @_LexC__: I'm convinced that some of y'all ...</td>\n",
       "      <td>man</td>\n",
       "      <td>white</td>\n",
       "      <td>35.0</td>\n",
       "      <td>363A7XIFV4G2799C5V96YERJA9AVAM</td>\n",
       "      <td>6347880360297734464</td>\n",
       "      <td></td>\n",
       "    </tr>\n",
       "    <tr>\n",
       "      <th>2</th>\n",
       "      <td>0.5</td>\n",
       "      <td>RT @_LexC__: I'm convinced that some of y'all ...</td>\n",
       "      <td>man</td>\n",
       "      <td>asian</td>\n",
       "      <td>23.0</td>\n",
       "      <td>363A7XIFV4G2799C5V96YERJA9AVAM</td>\n",
       "      <td>-7452610791699819066</td>\n",
       "      <td></td>\n",
       "    </tr>\n",
       "    <tr>\n",
       "      <th>3</th>\n",
       "      <td>1.0</td>\n",
       "      <td>RT @iBeZo: Stupid fucking nigger LeBron. You f...</td>\n",
       "      <td>man</td>\n",
       "      <td>white</td>\n",
       "      <td>25.0</td>\n",
       "      <td>3JTPR5MTZS6RLS3JBV4IOU0G2X35K5</td>\n",
       "      <td>-500114755446676507</td>\n",
       "      <td>race</td>\n",
       "    </tr>\n",
       "    <tr>\n",
       "      <th>5</th>\n",
       "      <td>1.0</td>\n",
       "      <td>RT @iBeZo: Stupid fucking nigger LeBron. You f...</td>\n",
       "      <td>woman</td>\n",
       "      <td>white</td>\n",
       "      <td>32.0</td>\n",
       "      <td>3JTPR5MTZS6RLS3JBV4IOU0G2X35K5</td>\n",
       "      <td>7912096326098817047</td>\n",
       "      <td>race</td>\n",
       "    </tr>\n",
       "  </tbody>\n",
       "</table>\n",
       "</div>"
      ],
      "text/plain": [
       "   offensiveYN                                               post  \\\n",
       "0          1.0  RT @_LexC__: I'm convinced that some of y'all ...   \n",
       "1          0.5  RT @_LexC__: I'm convinced that some of y'all ...   \n",
       "2          0.5  RT @_LexC__: I'm convinced that some of y'all ...   \n",
       "3          1.0  RT @iBeZo: Stupid fucking nigger LeBron. You f...   \n",
       "5          1.0  RT @iBeZo: Stupid fucking nigger LeBron. You f...   \n",
       "\n",
       "  annotatorGender annotatorRace annotatorAge                           HITId  \\\n",
       "0           woman         white         45.0  363A7XIFV4G2799C5V96YERJA9AVAM   \n",
       "1             man         white         35.0  363A7XIFV4G2799C5V96YERJA9AVAM   \n",
       "2             man         asian         23.0  363A7XIFV4G2799C5V96YERJA9AVAM   \n",
       "3             man         white         25.0  3JTPR5MTZS6RLS3JBV4IOU0G2X35K5   \n",
       "5           woman         white         32.0  3JTPR5MTZS6RLS3JBV4IOU0G2X35K5   \n",
       "\n",
       "               WorkerId targetCategory  \n",
       "0  -8935932304856669427                 \n",
       "1   6347880360297734464                 \n",
       "2  -7452610791699819066                 \n",
       "3   -500114755446676507           race  \n",
       "5   7912096326098817047           race  "
      ]
     },
     "execution_count": 245,
     "metadata": {},
     "output_type": "execute_result"
    }
   ],
   "source": [
    "sb_df.head()"
   ]
  },
  {
   "cell_type": "markdown",
   "id": "da69e9e3-8f01-450b-bb2c-d748a265df22",
   "metadata": {},
   "source": [
    "PREPROCESSING POPQUORN DATA"
   ]
  },
  {
   "cell_type": "code",
   "execution_count": 246,
   "id": "e60eef4e-5f3a-4e35-bddf-078ebbe8847f",
   "metadata": {},
   "outputs": [],
   "source": [
    "#loading popquorn data \n",
    "pop_df = pd.read_csv(\"raw data/POPQUORN_offensiveness.csv\")"
   ]
  },
  {
   "cell_type": "code",
   "execution_count": 247,
   "id": "3cb6ebcd-b160-4c35-b3b6-8f74eace15b6",
   "metadata": {},
   "outputs": [],
   "source": [
    "pop_df = pop_df.dropna() #dropping Na´s"
   ]
  },
  {
   "cell_type": "code",
   "execution_count": 248,
   "id": "70a82573-6f2f-4963-8be5-3a7f01df4aa7",
   "metadata": {},
   "outputs": [],
   "source": [
    "pop_df = pop_df.drop(pop_df[pop_df['race'] == 'Arab American'].index) #deleting arab american\n"
   ]
  },
  {
   "cell_type": "code",
   "execution_count": 249,
   "id": "cd4f516a-0e51-45c6-9d95-014174f595ab",
   "metadata": {},
   "outputs": [
    {
     "data": {
      "text/html": [
       "<div>\n",
       "<style scoped>\n",
       "    .dataframe tbody tr th:only-of-type {\n",
       "        vertical-align: middle;\n",
       "    }\n",
       "\n",
       "    .dataframe tbody tr th {\n",
       "        vertical-align: top;\n",
       "    }\n",
       "\n",
       "    .dataframe thead th {\n",
       "        text-align: right;\n",
       "    }\n",
       "</style>\n",
       "<table border=\"1\" class=\"dataframe\">\n",
       "  <thead>\n",
       "    <tr style=\"text-align: right;\">\n",
       "      <th></th>\n",
       "      <th>instance_id</th>\n",
       "      <th>user_id</th>\n",
       "      <th>text</th>\n",
       "      <th>offensiveness</th>\n",
       "      <th>gender</th>\n",
       "      <th>race</th>\n",
       "      <th>age</th>\n",
       "      <th>occupation</th>\n",
       "      <th>education</th>\n",
       "    </tr>\n",
       "  </thead>\n",
       "  <tbody>\n",
       "    <tr>\n",
       "      <th>0</th>\n",
       "      <td>530</td>\n",
       "      <td>0</td>\n",
       "      <td>I think a lot of Dethklok songs use drop C, wo...</td>\n",
       "      <td>1.0</td>\n",
       "      <td>Man</td>\n",
       "      <td>White</td>\n",
       "      <td>35-39</td>\n",
       "      <td>Unemployed</td>\n",
       "      <td>High school diploma or equivalent</td>\n",
       "    </tr>\n",
       "    <tr>\n",
       "      <th>1</th>\n",
       "      <td>1280</td>\n",
       "      <td>0</td>\n",
       "      <td>There are relatively simple ways around all of...</td>\n",
       "      <td>1.0</td>\n",
       "      <td>Man</td>\n",
       "      <td>White</td>\n",
       "      <td>35-39</td>\n",
       "      <td>Unemployed</td>\n",
       "      <td>High school diploma or equivalent</td>\n",
       "    </tr>\n",
       "    <tr>\n",
       "      <th>2</th>\n",
       "      <td>621</td>\n",
       "      <td>0</td>\n",
       "      <td>Tell the british soldier in WW1 to shoot that ...</td>\n",
       "      <td>1.0</td>\n",
       "      <td>Man</td>\n",
       "      <td>White</td>\n",
       "      <td>35-39</td>\n",
       "      <td>Unemployed</td>\n",
       "      <td>High school diploma or equivalent</td>\n",
       "    </tr>\n",
       "    <tr>\n",
       "      <th>3</th>\n",
       "      <td>676</td>\n",
       "      <td>0</td>\n",
       "      <td>Top comment pretty much. I have gay friends an...</td>\n",
       "      <td>1.0</td>\n",
       "      <td>Man</td>\n",
       "      <td>White</td>\n",
       "      <td>35-39</td>\n",
       "      <td>Unemployed</td>\n",
       "      <td>High school diploma or equivalent</td>\n",
       "    </tr>\n",
       "    <tr>\n",
       "      <th>4</th>\n",
       "      <td>635</td>\n",
       "      <td>0</td>\n",
       "      <td>Don't tell them just let them and their liniag...</td>\n",
       "      <td>3.0</td>\n",
       "      <td>Man</td>\n",
       "      <td>White</td>\n",
       "      <td>35-39</td>\n",
       "      <td>Unemployed</td>\n",
       "      <td>High school diploma or equivalent</td>\n",
       "    </tr>\n",
       "    <tr>\n",
       "      <th>...</th>\n",
       "      <td>...</td>\n",
       "      <td>...</td>\n",
       "      <td>...</td>\n",
       "      <td>...</td>\n",
       "      <td>...</td>\n",
       "      <td>...</td>\n",
       "      <td>...</td>\n",
       "      <td>...</td>\n",
       "      <td>...</td>\n",
       "    </tr>\n",
       "    <tr>\n",
       "      <th>13031</th>\n",
       "      <td>471</td>\n",
       "      <td>262</td>\n",
       "      <td>They’re closed anti-vaxx Facebook groups. When...</td>\n",
       "      <td>1.0</td>\n",
       "      <td>Woman</td>\n",
       "      <td>Asian</td>\n",
       "      <td>54-59</td>\n",
       "      <td>Self-employed</td>\n",
       "      <td>College degree</td>\n",
       "    </tr>\n",
       "    <tr>\n",
       "      <th>13032</th>\n",
       "      <td>1033</td>\n",
       "      <td>262</td>\n",
       "      <td>Bioethics; an interesting field in which the w...</td>\n",
       "      <td>1.0</td>\n",
       "      <td>Woman</td>\n",
       "      <td>Asian</td>\n",
       "      <td>54-59</td>\n",
       "      <td>Self-employed</td>\n",
       "      <td>College degree</td>\n",
       "    </tr>\n",
       "    <tr>\n",
       "      <th>13033</th>\n",
       "      <td>740</td>\n",
       "      <td>262</td>\n",
       "      <td>Or they are really secure but hang around inse...</td>\n",
       "      <td>5.0</td>\n",
       "      <td>Woman</td>\n",
       "      <td>Asian</td>\n",
       "      <td>54-59</td>\n",
       "      <td>Self-employed</td>\n",
       "      <td>College degree</td>\n",
       "    </tr>\n",
       "    <tr>\n",
       "      <th>13034</th>\n",
       "      <td>894</td>\n",
       "      <td>262</td>\n",
       "      <td>Don't have to worry about being too big to fit...</td>\n",
       "      <td>4.0</td>\n",
       "      <td>Woman</td>\n",
       "      <td>Asian</td>\n",
       "      <td>54-59</td>\n",
       "      <td>Self-employed</td>\n",
       "      <td>College degree</td>\n",
       "    </tr>\n",
       "    <tr>\n",
       "      <th>13035</th>\n",
       "      <td>596</td>\n",
       "      <td>262</td>\n",
       "      <td>Totally agree with this sentiment. I’m fully i...</td>\n",
       "      <td>1.0</td>\n",
       "      <td>Woman</td>\n",
       "      <td>Asian</td>\n",
       "      <td>54-59</td>\n",
       "      <td>Self-employed</td>\n",
       "      <td>College degree</td>\n",
       "    </tr>\n",
       "  </tbody>\n",
       "</table>\n",
       "<p>12987 rows × 9 columns</p>\n",
       "</div>"
      ],
      "text/plain": [
       "       instance_id  user_id  \\\n",
       "0              530        0   \n",
       "1             1280        0   \n",
       "2              621        0   \n",
       "3              676        0   \n",
       "4              635        0   \n",
       "...            ...      ...   \n",
       "13031          471      262   \n",
       "13032         1033      262   \n",
       "13033          740      262   \n",
       "13034          894      262   \n",
       "13035          596      262   \n",
       "\n",
       "                                                    text  offensiveness  \\\n",
       "0      I think a lot of Dethklok songs use drop C, wo...            1.0   \n",
       "1      There are relatively simple ways around all of...            1.0   \n",
       "2      Tell the british soldier in WW1 to shoot that ...            1.0   \n",
       "3      Top comment pretty much. I have gay friends an...            1.0   \n",
       "4      Don't tell them just let them and their liniag...            3.0   \n",
       "...                                                  ...            ...   \n",
       "13031  They’re closed anti-vaxx Facebook groups. When...            1.0   \n",
       "13032  Bioethics; an interesting field in which the w...            1.0   \n",
       "13033  Or they are really secure but hang around inse...            5.0   \n",
       "13034  Don't have to worry about being too big to fit...            4.0   \n",
       "13035  Totally agree with this sentiment. I’m fully i...            1.0   \n",
       "\n",
       "      gender   race    age     occupation                          education  \n",
       "0        Man  White  35-39     Unemployed  High school diploma or equivalent  \n",
       "1        Man  White  35-39     Unemployed  High school diploma or equivalent  \n",
       "2        Man  White  35-39     Unemployed  High school diploma or equivalent  \n",
       "3        Man  White  35-39     Unemployed  High school diploma or equivalent  \n",
       "4        Man  White  35-39     Unemployed  High school diploma or equivalent  \n",
       "...      ...    ...    ...            ...                                ...  \n",
       "13031  Woman  Asian  54-59  Self-employed                     College degree  \n",
       "13032  Woman  Asian  54-59  Self-employed                     College degree  \n",
       "13033  Woman  Asian  54-59  Self-employed                     College degree  \n",
       "13034  Woman  Asian  54-59  Self-employed                     College degree  \n",
       "13035  Woman  Asian  54-59  Self-employed                     College degree  \n",
       "\n",
       "[12987 rows x 9 columns]"
      ]
     },
     "execution_count": 249,
     "metadata": {},
     "output_type": "execute_result"
    }
   ],
   "source": [
    "pop_df"
   ]
  },
  {
   "cell_type": "code",
   "execution_count": 250,
   "id": "3e851247-9a92-4911-8a87-10d9fe5aad0c",
   "metadata": {},
   "outputs": [],
   "source": [
    "pop_df = pop_df.to_csv(\"preprocessed data/popquorndata.csv\", index=False) #saving csv file\n"
   ]
  },
  {
   "cell_type": "markdown",
   "id": "9cfd5ac5-9406-47a9-9290-5612bd098376",
   "metadata": {},
   "source": [
    "MERGING THE DATASETS"
   ]
  },
  {
   "cell_type": "code",
   "execution_count": 251,
   "id": "3255c304-051c-4f9c-8bdd-bb29e7efd5cf",
   "metadata": {},
   "outputs": [],
   "source": [
    "pop_df = pd.read_csv(\"preprocessed data/popquorndata.csv\") #loading data"
   ]
  },
  {
   "cell_type": "code",
   "execution_count": 252,
   "id": "e1dde603-9b82-4afe-b510-d9d3c394ca92",
   "metadata": {},
   "outputs": [],
   "source": [
    "socialbiascorpus = pd.read_csv(\"preprocessed data/socialbiascorpus.csv\") #loading data\n",
    "\n",
    "# Different targetCategories are only necessary for the validation, so we drop the before merging the data\n",
    "socialbiascorpus = socialbiascorpus.drop_duplicates(subset=[\"HITId\", \"WorkerId\"], keep='first')"
   ]
  },
  {
   "cell_type": "code",
   "execution_count": 253,
   "id": "d0c67dd4-90a4-4a2f-82cb-f0be457bb56a",
   "metadata": {},
   "outputs": [],
   "source": [
    "#mapping offensiveness\n",
    "def map_values(x):\n",
    "    if x == 1.0 or x == 2.0:\n",
    "        return 0.0\n",
    "    elif x == 3.0:\n",
    "        return 0.5\n",
    "    elif x == 4.0 or x == 5.0:\n",
    "        return 1.0\n",
    "    else:\n",
    "        return x\n",
    "\n",
    "pop_df['offensiveness_merge'] = pop_df['offensiveness'].apply(map_values)"
   ]
  },
  {
   "cell_type": "code",
   "execution_count": 254,
   "id": "d7048364-f591-493d-9e84-85e4122d4c74",
   "metadata": {},
   "outputs": [],
   "source": [
    "#mapping gender\n",
    "def map_genders(gender):\n",
    "    if gender.lower() == 'woman':\n",
    "        return 'Woman'\n",
    "    elif gender.lower() == 'nonbinary':\n",
    "        return 'Non-binary'\n",
    "    elif gender.lower() == 'man':\n",
    "        return 'Man'\n",
    "    else:\n",
    "        return gender  \n",
    "    \n",
    "socialbiascorpus['gender_merge'] = socialbiascorpus['annotatorGender'].apply(map_genders)\n",
    "\n"
   ]
  },
  {
   "cell_type": "code",
   "execution_count": 255,
   "id": "21326bd2-d00b-4ef9-90bd-208e24e54454",
   "metadata": {},
   "outputs": [],
   "source": [
    "#mapping ethnicity\n",
    "ethnicity_map = {\n",
    "    'native': 'Native American',\n",
    "    'white': 'White',\n",
    "    'black': 'Black or African American',\n",
    "    'asian': 'Asian',\n",
    "    'hisp': 'Hispanic or Latino',\n",
    "    'other': 'Other',\n",
    "}\n",
    "socialbiascorpus['annotator_race_merge'] = socialbiascorpus['annotatorRace'].map(ethnicity_map)\n"
   ]
  },
  {
   "cell_type": "code",
   "execution_count": 256,
   "id": "08a85f26-b629-4c5a-9f90-c4d5005ce141",
   "metadata": {},
   "outputs": [],
   "source": [
    "socialbiascorpus['annotatorAge'] = pd.to_numeric(socialbiascorpus['annotatorAge']) #converting age to numeric"
   ]
  },
  {
   "cell_type": "code",
   "execution_count": 257,
   "id": "842c75d7-38ff-4902-bbab-073878c9e9dd",
   "metadata": {},
   "outputs": [],
   "source": [
    "#mapping age values\n",
    "def age_to_range(age):\n",
    "    if 18 <= age <= 24: \n",
    "        return '18-24'\n",
    "    elif 25 <= age <= 29:\n",
    "        return '25-29'\n",
    "    elif 30 <= age <= 34: \n",
    "        return '30-34'\n",
    "    elif 35 <= age <= 39:\n",
    "        return '35-39'\n",
    "    elif 40 <= age <= 44:\n",
    "        return '40-44'\n",
    "    elif 45 <= age <= 49:\n",
    "        return '45-49'\n",
    "    elif 50 <= age <= 54: \n",
    "        return '50-54'\n",
    "    elif 54 <= age <= 59: \n",
    "        return '54-59'\n",
    "    elif 60 <= age <= 64:\n",
    "        return '60-64'\n",
    "    elif age >= 65:\n",
    "        return '>65'"
   ]
  },
  {
   "cell_type": "code",
   "execution_count": 258,
   "id": "41d75248-7826-43ad-8cd5-be26aaec5056",
   "metadata": {},
   "outputs": [],
   "source": [
    "socialbiascorpus['age_merge'] = socialbiascorpus['annotatorAge'].apply(age_to_range) "
   ]
  },
  {
   "cell_type": "code",
   "execution_count": 259,
   "id": "d2fe8e19-b85b-4d04-a69d-4638f88712c9",
   "metadata": {},
   "outputs": [],
   "source": [
    "pop_df_merge = pop_df.drop(columns= ['education','occupation', 'offensiveness']) #dropping unnecessary columns\n",
    "socialbiascorpus_merge = socialbiascorpus.drop(columns= ['targetCategory','annotatorGender','annotatorRace','annotatorAge']) "
   ]
  },
  {
   "cell_type": "code",
   "execution_count": 260,
   "id": "07028398-7595-41bc-a03e-7789a685f626",
   "metadata": {},
   "outputs": [],
   "source": [
    "##renaming columns\n",
    "socialbiascorpus_merge.rename(columns={'offensiveYN': 'offensiveness_merge', 'gender_merge': 'gender', 'annotator_race_merge': 'race', 'age_merge': 'age', 'HITId': 'instance_id', 'WorkerId' : 'user_id', 'post':'text'}, inplace=True)\n"
   ]
  },
  {
   "cell_type": "code",
   "execution_count": 261,
   "id": "8ebae1c3-11fe-4d1d-acec-fe6841a3e244",
   "metadata": {},
   "outputs": [],
   "source": [
    "pop_df_merge['Dataset']='POPQUORN Data' #adding dataset column \n",
    "socialbiascorpus_merge['Dataset']='SBIC'"
   ]
  },
  {
   "cell_type": "code",
   "execution_count": 262,
   "id": "ee008c59-560f-46d7-9a42-1f01b90d037a",
   "metadata": {},
   "outputs": [],
   "source": [
    "merged_dataset = pd.concat([socialbiascorpus_merge, pop_df_merge]) #merging the datasets\n",
    "\n"
   ]
  },
  {
   "cell_type": "code",
   "execution_count": 263,
   "id": "f43c596b-3566-47a2-b74d-6765ec7207d5",
   "metadata": {},
   "outputs": [],
   "source": [
    "merged_dataset = merged_dataset.to_csv(\"preprocessed data/merged_dataset.csv\", index=False) #saving csv\n"
   ]
  },
  {
   "cell_type": "markdown",
   "id": "e37d5a3d-2851-4162-924e-8f7888e4672e",
   "metadata": {},
   "source": [
    "Extracting Posts that target gender and other targets"
   ]
  },
  {
   "cell_type": "code",
   "execution_count": 264,
   "id": "e8c6ebf6-a1c1-4d1d-9842-0c4d7dbc2f6b",
   "metadata": {},
   "outputs": [],
   "source": [
    "file_path = 'preprocessed data/target_distribution.json'\n",
    "\n",
    "with open(file_path, 'r') as file:\n",
    "    data = json.load(file)\n"
   ]
  },
  {
   "cell_type": "code",
   "execution_count": 265,
   "id": "b92b4ce8-4e42-4446-886e-904b78772fb2",
   "metadata": {},
   "outputs": [],
   "source": [
    "#filtering posts that target gender\n",
    "data_othertarget = {k: v for k, v in data.items() if k != 'gender'} \n",
    "data_gendertarget = {k: v for k, v in data.items() if k == 'gender' }\n",
    "\n",
    "#print(data_othertarget)\n",
    "#print(data_gendertarget)"
   ]
  },
  {
   "cell_type": "code",
   "execution_count": 266,
   "id": "ad1e8795-492d-4e29-aa6b-79eb0e42d059",
   "metadata": {},
   "outputs": [],
   "source": [
    "length_other_target = {k: len(v) for k, v in data_othertarget.items()}\n",
    "length_target_gender = {k: len(v) for k, v in data_gendertarget.items()}\n"
   ]
  },
  {
   "cell_type": "code",
   "execution_count": 267,
   "id": "4e386d9d-0b84-492d-90bd-1af7335d90cc",
   "metadata": {},
   "outputs": [],
   "source": [
    "def extract_user_ids(data_dict):\n",
    "    user_ids = set()\n",
    "    for key in data_dict:\n",
    "        user_ids.update(data_dict[key])\n",
    "    return list(user_ids)\n",
    "\n",
    "instances_othertarge = extract_user_ids(data_othertarget)\n",
    "instances_gender_target = extract_user_ids(data_gendertarget)\n"
   ]
  },
  {
   "cell_type": "code",
   "execution_count": 268,
   "id": "156cc755-be06-4a8c-97d6-4e4a7b83faf0",
   "metadata": {},
   "outputs": [],
   "source": [
    "merged_dataset = pd.read_csv(\"preprocessed data/merged_dataset.csv\") #loading data"
   ]
  },
  {
   "cell_type": "code",
   "execution_count": 269,
   "id": "b36e2a00-81f2-4c8b-9e60-e9a15d1ba3b6",
   "metadata": {},
   "outputs": [],
   "source": [
    "df_othertarget = merged_dataset[merged_dataset['instance_id'].isin(instances_othertarge)]\n",
    "df_gendertarget = merged_dataset[merged_dataset['instance_id'].isin(instances_gender_target)]"
   ]
  },
  {
   "cell_type": "code",
   "execution_count": 270,
   "id": "ee3f3e43-de66-4f01-943f-cdfc4c4d3943",
   "metadata": {},
   "outputs": [],
   "source": [
    "df_gendertarget = df_gendertarget.to_csv(\"preprocessed data/df_gendertarget.csv\", index=False) #saving gender targeted posts in csv\n",
    "df_othertarget = df_othertarget.to_csv(\"preprocessed data/df_othertarget.csv\", index=False) #saving other targeted posts in csv\n",
    "\n"
   ]
  },
  {
   "cell_type": "code",
   "execution_count": 271,
   "id": "28586bf0-e675-4509-9a8a-2ce324105831",
   "metadata": {},
   "outputs": [],
   "source": [
    "df_gendertarget = pd.read_csv(\"preprocessed data/df_gendertarget.csv\")"
   ]
  },
  {
   "cell_type": "code",
   "execution_count": 272,
   "id": "bba2ef62-fce0-4455-a65c-a3ef615cbfd5",
   "metadata": {},
   "outputs": [
    {
     "data": {
      "text/plain": [
       "{'POPQUORN Data', 'SBIC'}"
      ]
     },
     "execution_count": 272,
     "metadata": {},
     "output_type": "execute_result"
    }
   ],
   "source": [
    "set(df_gendertarget['Dataset'])"
   ]
  }
 ],
 "metadata": {
  "kernelspec": {
   "display_name": "Python 3 (ipykernel)",
   "language": "python",
   "name": "python3"
  },
  "language_info": {
   "codemirror_mode": {
    "name": "ipython",
    "version": 3
   },
   "file_extension": ".py",
   "mimetype": "text/x-python",
   "name": "python",
   "nbconvert_exporter": "python",
   "pygments_lexer": "ipython3",
   "version": "3.9.12"
  }
 },
 "nbformat": 4,
 "nbformat_minor": 5
}
